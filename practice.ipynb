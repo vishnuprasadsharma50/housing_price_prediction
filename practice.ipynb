{
 "cells": [
  {
   "cell_type": "code",
   "execution_count": 1,
   "id": "aa98850a-20c7-4067-884b-fa14f0db170f",
   "metadata": {},
   "outputs": [],
   "source": [
    "import pandas as pd\n",
    "import numpy as np"
   ]
  },
  {
   "cell_type": "code",
   "execution_count": 37,
   "id": "8b6ea83a-e9c1-4b92-8afd-f8bd27fac6cd",
   "metadata": {},
   "outputs": [],
   "source": [
    "dict= {\"City\": ['Delhi', 'Mumbai', 'Delhi', 'Mumbai', 'NY'], \"Area\":[\"Sarojini\",\"Kolaba\",\"Rajpath\",\"Gateway\",\"NYC\"], \"Population\": [25000,20000,55000,15000,5000], \"Price\":[10,12,8,5,65]}"
   ]
  },
  {
   "cell_type": "code",
   "execution_count": 38,
   "id": "bd48e884-210f-42dd-97de-c1078ac678a5",
   "metadata": {},
   "outputs": [],
   "source": [
    "df= pd.DataFrame(dict)"
   ]
  },
  {
   "cell_type": "code",
   "execution_count": 39,
   "id": "e42facd2-1008-43f0-bbc5-900200b5bb45",
   "metadata": {},
   "outputs": [
    {
     "data": {
      "text/html": [
       "<div>\n",
       "<style scoped>\n",
       "    .dataframe tbody tr th:only-of-type {\n",
       "        vertical-align: middle;\n",
       "    }\n",
       "\n",
       "    .dataframe tbody tr th {\n",
       "        vertical-align: top;\n",
       "    }\n",
       "\n",
       "    .dataframe thead th {\n",
       "        text-align: right;\n",
       "    }\n",
       "</style>\n",
       "<table border=\"1\" class=\"dataframe\">\n",
       "  <thead>\n",
       "    <tr style=\"text-align: right;\">\n",
       "      <th></th>\n",
       "      <th>City</th>\n",
       "      <th>Area</th>\n",
       "      <th>Population</th>\n",
       "      <th>Price</th>\n",
       "    </tr>\n",
       "  </thead>\n",
       "  <tbody>\n",
       "    <tr>\n",
       "      <th>0</th>\n",
       "      <td>Delhi</td>\n",
       "      <td>Sarojini</td>\n",
       "      <td>25000</td>\n",
       "      <td>10</td>\n",
       "    </tr>\n",
       "    <tr>\n",
       "      <th>1</th>\n",
       "      <td>Mumbai</td>\n",
       "      <td>Kolaba</td>\n",
       "      <td>20000</td>\n",
       "      <td>12</td>\n",
       "    </tr>\n",
       "    <tr>\n",
       "      <th>2</th>\n",
       "      <td>Delhi</td>\n",
       "      <td>Rajpath</td>\n",
       "      <td>55000</td>\n",
       "      <td>8</td>\n",
       "    </tr>\n",
       "    <tr>\n",
       "      <th>3</th>\n",
       "      <td>Mumbai</td>\n",
       "      <td>Gateway</td>\n",
       "      <td>15000</td>\n",
       "      <td>5</td>\n",
       "    </tr>\n",
       "    <tr>\n",
       "      <th>4</th>\n",
       "      <td>NY</td>\n",
       "      <td>NYC</td>\n",
       "      <td>5000</td>\n",
       "      <td>65</td>\n",
       "    </tr>\n",
       "  </tbody>\n",
       "</table>\n",
       "</div>"
      ],
      "text/plain": [
       "     City      Area  Population  Price\n",
       "0   Delhi  Sarojini       25000     10\n",
       "1  Mumbai    Kolaba       20000     12\n",
       "2   Delhi   Rajpath       55000      8\n",
       "3  Mumbai   Gateway       15000      5\n",
       "4      NY       NYC        5000     65"
      ]
     },
     "execution_count": 39,
     "metadata": {},
     "output_type": "execute_result"
    }
   ],
   "source": [
    "df"
   ]
  },
  {
   "cell_type": "code",
   "execution_count": 40,
   "id": "38bb6f1a-0346-4805-b005-eced3e035a35",
   "metadata": {},
   "outputs": [],
   "source": [
    "# Filter only rows whose city has mean population > 30000\n",
    "filtered_df= df.groupby(\"City\").filter(lambda x: x['Population'].mean()>15000)"
   ]
  },
  {
   "cell_type": "code",
   "execution_count": 41,
   "id": "d8567e3d-b3f7-4ed5-bbec-6818f559a35f",
   "metadata": {},
   "outputs": [
    {
     "data": {
      "text/html": [
       "<div>\n",
       "<style scoped>\n",
       "    .dataframe tbody tr th:only-of-type {\n",
       "        vertical-align: middle;\n",
       "    }\n",
       "\n",
       "    .dataframe tbody tr th {\n",
       "        vertical-align: top;\n",
       "    }\n",
       "\n",
       "    .dataframe thead th {\n",
       "        text-align: right;\n",
       "    }\n",
       "</style>\n",
       "<table border=\"1\" class=\"dataframe\">\n",
       "  <thead>\n",
       "    <tr style=\"text-align: right;\">\n",
       "      <th></th>\n",
       "      <th>City</th>\n",
       "      <th>Area</th>\n",
       "      <th>Population</th>\n",
       "      <th>Price</th>\n",
       "    </tr>\n",
       "  </thead>\n",
       "  <tbody>\n",
       "    <tr>\n",
       "      <th>0</th>\n",
       "      <td>Delhi</td>\n",
       "      <td>Sarojini</td>\n",
       "      <td>25000</td>\n",
       "      <td>10</td>\n",
       "    </tr>\n",
       "    <tr>\n",
       "      <th>1</th>\n",
       "      <td>Mumbai</td>\n",
       "      <td>Kolaba</td>\n",
       "      <td>20000</td>\n",
       "      <td>12</td>\n",
       "    </tr>\n",
       "    <tr>\n",
       "      <th>2</th>\n",
       "      <td>Delhi</td>\n",
       "      <td>Rajpath</td>\n",
       "      <td>55000</td>\n",
       "      <td>8</td>\n",
       "    </tr>\n",
       "    <tr>\n",
       "      <th>3</th>\n",
       "      <td>Mumbai</td>\n",
       "      <td>Gateway</td>\n",
       "      <td>15000</td>\n",
       "      <td>5</td>\n",
       "    </tr>\n",
       "  </tbody>\n",
       "</table>\n",
       "</div>"
      ],
      "text/plain": [
       "     City      Area  Population  Price\n",
       "0   Delhi  Sarojini       25000     10\n",
       "1  Mumbai    Kolaba       20000     12\n",
       "2   Delhi   Rajpath       55000      8\n",
       "3  Mumbai   Gateway       15000      5"
      ]
     },
     "execution_count": 41,
     "metadata": {},
     "output_type": "execute_result"
    }
   ],
   "source": [
    "filtered_df"
   ]
  },
  {
   "cell_type": "code",
   "execution_count": 45,
   "id": "2edbd383-4acb-4d15-844b-2355f51cfd1a",
   "metadata": {},
   "outputs": [],
   "source": [
    "def function_new(row):\n",
    "    row['the_weird_column']= row['Population']+row['Price']\n",
    "    return row\n",
    "new_df= filtered_df.apply(function_new, axis=1)"
   ]
  },
  {
   "cell_type": "code",
   "execution_count": 46,
   "id": "fdc827c6-1d41-4266-beef-57c8b60385f1",
   "metadata": {},
   "outputs": [
    {
     "data": {
      "text/html": [
       "<div>\n",
       "<style scoped>\n",
       "    .dataframe tbody tr th:only-of-type {\n",
       "        vertical-align: middle;\n",
       "    }\n",
       "\n",
       "    .dataframe tbody tr th {\n",
       "        vertical-align: top;\n",
       "    }\n",
       "\n",
       "    .dataframe thead th {\n",
       "        text-align: right;\n",
       "    }\n",
       "</style>\n",
       "<table border=\"1\" class=\"dataframe\">\n",
       "  <thead>\n",
       "    <tr style=\"text-align: right;\">\n",
       "      <th></th>\n",
       "      <th>City</th>\n",
       "      <th>Area</th>\n",
       "      <th>Population</th>\n",
       "      <th>Price</th>\n",
       "      <th>the_weird_column</th>\n",
       "    </tr>\n",
       "  </thead>\n",
       "  <tbody>\n",
       "    <tr>\n",
       "      <th>0</th>\n",
       "      <td>Delhi</td>\n",
       "      <td>Sarojini</td>\n",
       "      <td>25000</td>\n",
       "      <td>10</td>\n",
       "      <td>25010</td>\n",
       "    </tr>\n",
       "    <tr>\n",
       "      <th>1</th>\n",
       "      <td>Mumbai</td>\n",
       "      <td>Kolaba</td>\n",
       "      <td>20000</td>\n",
       "      <td>12</td>\n",
       "      <td>20012</td>\n",
       "    </tr>\n",
       "    <tr>\n",
       "      <th>2</th>\n",
       "      <td>Delhi</td>\n",
       "      <td>Rajpath</td>\n",
       "      <td>55000</td>\n",
       "      <td>8</td>\n",
       "      <td>55008</td>\n",
       "    </tr>\n",
       "    <tr>\n",
       "      <th>3</th>\n",
       "      <td>Mumbai</td>\n",
       "      <td>Gateway</td>\n",
       "      <td>15000</td>\n",
       "      <td>5</td>\n",
       "      <td>15005</td>\n",
       "    </tr>\n",
       "  </tbody>\n",
       "</table>\n",
       "</div>"
      ],
      "text/plain": [
       "     City      Area  Population  Price  the_weird_column\n",
       "0   Delhi  Sarojini       25000     10             25010\n",
       "1  Mumbai    Kolaba       20000     12             20012\n",
       "2   Delhi   Rajpath       55000      8             55008\n",
       "3  Mumbai   Gateway       15000      5             15005"
      ]
     },
     "execution_count": 46,
     "metadata": {},
     "output_type": "execute_result"
    }
   ],
   "source": [
    "new_df"
   ]
  },
  {
   "cell_type": "code",
   "execution_count": null,
   "id": "50e677e9-051e-41d2-8ce2-d9571ed20096",
   "metadata": {},
   "outputs": [],
   "source": []
  },
  {
   "cell_type": "code",
   "execution_count": null,
   "id": "7f740fa5-d89c-47fc-8a32-2c8552fa5ea9",
   "metadata": {},
   "outputs": [],
   "source": []
  },
  {
   "cell_type": "code",
   "execution_count": null,
   "id": "871121c1-c8d9-49ff-b4f0-4483c526e690",
   "metadata": {},
   "outputs": [],
   "source": []
  },
  {
   "cell_type": "code",
   "execution_count": null,
   "id": "5e93551b-a25e-4f47-8f64-84f73a591577",
   "metadata": {},
   "outputs": [],
   "source": []
  }
 ],
 "metadata": {
  "kernelspec": {
   "display_name": "PANDAS ENV",
   "language": "python",
   "name": "pandasenv"
  },
  "language_info": {
   "codemirror_mode": {
    "name": "ipython",
    "version": 3
   },
   "file_extension": ".py",
   "mimetype": "text/x-python",
   "name": "python",
   "nbconvert_exporter": "python",
   "pygments_lexer": "ipython3",
   "version": "3.12.2"
  }
 },
 "nbformat": 4,
 "nbformat_minor": 5
}
